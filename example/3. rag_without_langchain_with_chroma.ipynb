{
 "cells": [
  {
   "cell_type": "markdown",
   "id": "3e192094",
   "metadata": {},
   "source": [
    "1. 문서의 내용을 읽는다"
   ]
  },
  {
   "cell_type": "code",
   "execution_count": null,
   "id": "649d9314",
   "metadata": {},
   "outputs": [],
   "source": [
    "%pip install python-docx"
   ]
  },
  {
   "cell_type": "code",
   "execution_count": null,
   "id": "740b2194",
   "metadata": {},
   "outputs": [],
   "source": [
    "from docx import Document\n",
    "\n",
    "document = Document('./tax.docx')\n",
    "\n",
    "print(f'document == {dir(document)}')\n",
    "\n",
    "full_text = ''\n",
    "\n",
    "for index, paragraph in enumerate(document.paragraphs):\n",
    "    print(f'paragraph =={paragraph.text}')\n",
    "    full_text += f'{paragraph.text}\\n'"
   ]
  },
  {
   "cell_type": "markdown",
   "id": "98640dbf",
   "metadata": {},
   "source": [
    "2. 문서를 쪼갠다"
   ]
  },
  {
   "cell_type": "code",
   "execution_count": null,
   "id": "f72d15fc",
   "metadata": {},
   "outputs": [],
   "source": [
    "%pip install tiktoken"
   ]
  },
  {
   "cell_type": "code",
   "execution_count": 29,
   "id": "3a315220",
   "metadata": {},
   "outputs": [],
   "source": [
    "import tiktoken \n",
    "\n",
    "def split_text(full_text, chunk_size):\n",
    "    encoder = tiktoken.encoding_for_model(\"gpt-4o\")\n",
    "    total_encoding = encoder.encode(full_text)\n",
    "    total_token_count = len(total_encoding)\n",
    "    text_list = []\n",
    "    for i in range(0, total_token_count, chunk_size):\n",
    "        chunk = total_encoding[i: i+chunk_size]\n",
    "        decoded = encoder.decode(chunk)\n",
    "        text_list.append(decoded)\n",
    "    \n",
    "    return text_list"
   ]
  },
  {
   "cell_type": "code",
   "execution_count": null,
   "id": "0f0db2ca",
   "metadata": {},
   "outputs": [],
   "source": [
    "chunk_list = split_text(full_text, 1500)"
   ]
  },
  {
   "cell_type": "code",
   "execution_count": null,
   "id": "6dc48cf5",
   "metadata": {},
   "outputs": [],
   "source": [
    "3. 문서 임베딩"
   ]
  },
  {
   "cell_type": "code",
   "execution_count": null,
   "id": "1e54b334",
   "metadata": {},
   "outputs": [],
   "source": [
    "%pip install chromadb"
   ]
  },
  {
   "cell_type": "code",
   "execution_count": null,
   "id": "2ba8e827",
   "metadata": {},
   "outputs": [],
   "source": [
    "import chromadb\n",
    "\n",
    "chroma_client = chromadb.Client()"
   ]
  },
  {
   "cell_type": "code",
   "execution_count": null,
   "id": "05051789",
   "metadata": {},
   "outputs": [],
   "source": [
    "collection_name = \"tax_collection\"\n",
    "tax_collection = chroma_client.create_collection(name=collection_name)"
   ]
  },
  {
   "cell_type": "code",
   "execution_count": null,
   "id": "2017bd54",
   "metadata": {},
   "outputs": [],
   "source": [
    "from langchain_ollama import OllamaEmbeddings\n",
    "import os\n",
    "\n",
    "embeddings = OllamaEmbeddings(model=os.getenv(\"embedmodel\"))"
   ]
  },
  {
   "cell_type": "code",
   "execution_count": 50,
   "id": "a60c65c2",
   "metadata": {},
   "outputs": [],
   "source": [
    "tax_collection = chroma_client.get_or_create_collection(name=\"tax_collection\")"
   ]
  },
  {
   "cell_type": "code",
   "execution_count": 51,
   "id": "513ea6dc",
   "metadata": {},
   "outputs": [],
   "source": [
    "id_list = []\n",
    "for index in range(len(chunk_list)):\n",
    "    id_list.append(f'{index}')"
   ]
  },
  {
   "cell_type": "code",
   "execution_count": 53,
   "id": "b35feb94",
   "metadata": {},
   "outputs": [],
   "source": [
    "tax_collection.add(documents=chunk_list, ids=id_list)"
   ]
  },
  {
   "cell_type": "markdown",
   "id": "f006d8e0",
   "metadata": {},
   "source": [
    "4. 유사도 검색"
   ]
  },
  {
   "cell_type": "code",
   "execution_count": 56,
   "id": "eabc075b",
   "metadata": {},
   "outputs": [],
   "source": [
    "query = '연봉 7천만원인 직장인의 소득세는 얼마인가요?'\n",
    "retrieved_doc = tax_collection.query(query_texts=query, n_results=3)\n"
   ]
  },
  {
   "cell_type": "code",
   "execution_count": null,
   "id": "5cf62507",
   "metadata": {},
   "outputs": [],
   "source": [
    "retrieved_doc['documents'][0]"
   ]
  },
  {
   "cell_type": "code",
   "execution_count": null,
   "id": "b26b61a8",
   "metadata": {},
   "outputs": [],
   "source": [
    "5. LLM 질의"
   ]
  },
  {
   "cell_type": "code",
   "execution_count": 62,
   "id": "543e663e",
   "metadata": {},
   "outputs": [],
   "source": [
    "from langchain_ollama import ChatOllama\n",
    "from langchain_core.prompts import ChatPromptTemplate\n",
    "import os\n",
    "\n",
    "llm = ChatOllama(model=os.getenv(\"model\"))\n",
    "\n",
    "response = ChatPromptTemplate.from_messages(\n",
    "    [\n",
    "        {\n",
    "            \"role\": \"system\",\n",
    "            \"content\": f\"당신은 한국의 소득세 전문가 입니다. 아래 내용을 참고해서 사용자의 질문에 답변해주세요 {retrieved_doc['documents'][0]}\",\n",
    "        },\n",
    "        {\"role\": \"user\", \"content\": query},\n",
    "    ]\n",
    ")"
   ]
  },
  {
   "cell_type": "code",
   "execution_count": null,
   "id": "0cc09cbd",
   "metadata": {},
   "outputs": [],
   "source": [
    "response.messages[0]"
   ]
  }
 ],
 "metadata": {
  "kernelspec": {
   "display_name": "RAG",
   "language": "python",
   "name": "python3"
  },
  "language_info": {
   "codemirror_mode": {
    "name": "ipython",
    "version": 3
   },
   "file_extension": ".py",
   "mimetype": "text/x-python",
   "name": "python",
   "nbconvert_exporter": "python",
   "pygments_lexer": "ipython3",
   "version": "3.11.9"
  }
 },
 "nbformat": 4,
 "nbformat_minor": 5
}
