{
 "cells": [
  {
   "cell_type": "markdown",
   "id": "3e192094",
   "metadata": {},
   "source": [
    "1. 문서의 내용을 읽는다\n",
    "2. 문서를 쪼갠다\n",
    "   - 토큰수 초과로 답변을 생성하지 못할 수 있고\n",
    "   - 문서가 길면(인풋이 길면) 답변 생성이 오래 걸림\n",
    "3. 임베딩 -> 벡터 데이터베이스에 저장\n",
    "4. 질문이 있을 때, 백터 데이터베이스에 유사도 검색\n",
    "5. 유사도 검색으로 가져온 문서를 LLM에 질문과 같이 전달 "
   ]
  },
  {
   "cell_type": "code",
   "execution_count": null,
   "id": "740b2194",
   "metadata": {},
   "outputs": [],
   "source": [
    "%pip install --upgrade --quiet docx2txt langchain-community\n",
    "%pip install -qU langchain-text-splitters\n",
    "%pip install -U langchain langchainhub --quiet\n",
    "%pip install langchain-pinecone"
   ]
  },
  {
   "cell_type": "code",
   "execution_count": null,
   "id": "374687bc",
   "metadata": {},
   "outputs": [],
   "source": [
    "from langchain_community.document_loaders import Docx2txtLoader\n",
    "from langchain_text_splitters import RecursiveCharacterTextSplitter\n",
    "\n",
    "\n",
    "text_splitter = RecursiveCharacterTextSplitter(\n",
    "    chunk_size =1500,\n",
    "    chunk_overlap=200,\n",
    ")\n",
    "\n",
    "loader = Docx2txtLoader('./tax_with_markdown.docx')\n",
    "document_list = loader.load_and_split(text_splitter = text_splitter)\n",
    "\n",
    "len(document_list)"
   ]
  },
  {
   "cell_type": "code",
   "execution_count": 13,
   "id": "14a0a795",
   "metadata": {},
   "outputs": [],
   "source": [
    "from langchain_ollama import OllamaEmbeddings\n",
    "from dotenv import load_dotenv\n",
    "import os\n",
    "load_dotenv()\n",
    "\n",
    "\n",
    "embedding = OllamaEmbeddings(model=os.getenv(\"embedmodel\"))"
   ]
  },
  {
   "cell_type": "code",
   "execution_count": null,
   "id": "644b5684",
   "metadata": {},
   "outputs": [],
   "source": [
    "from langchain_pinecone import PineconeVectorStore\n",
    "from pinecone import Pinecone, ServerlessSpec\n",
    "import os,time\n",
    "\n",
    "INDEX = \"tax-markdown-index\"\n",
    "pc = Pinecone(api_key=os.environ[\"PINECONE_API_KEY\"])\n",
    "\n",
    "if INDEX in [i[\"name\"] for i in pc.list_indexes()]:\n",
    "    pc.delete_index(INDEX)\n",
    "\n",
    "pc.create_index(\n",
    "    name=INDEX,\n",
    "    dimension=768,\n",
    "    metric=\"cosine\",\n",
    "    spec=ServerlessSpec(cloud=\"aws\", region=\"us-east-1\"),\n",
    ")\n",
    "\n",
    "\n",
    "while True:\n",
    "    desc = pc.describe_index(INDEX)\n",
    "    if desc.get(\"status\", {}).get(\"ready\"):\n",
    "        break\n",
    "    time.sleep(0.5)\n",
    "\n",
    "splitter = RecursiveCharacterTextSplitter(chunk_size=1000, chunk_overlap=100)\n",
    "chunked_documents = splitter.split_documents(document_list)\n",
    "print(\"총 chunk 개수:\", len(chunked_documents))\n",
    "\n",
    "database = PineconeVectorStore.from_existing_index(\n",
    "    index_name=INDEX,\n",
    "    embedding=embedding,  \n",
    ")\n",
    "\n",
    "batch_size = 50 \n",
    "for i in range(0, len(chunked_documents), batch_size):\n",
    "    batch = chunked_documents[i:i+batch_size]\n",
    "    database.add_documents(batch)\n",
    "    print(f\"업로드 진행: {i+1} ~ {i+len(batch)} / {len(chunked_documents)}\")"
   ]
  },
  {
   "cell_type": "code",
   "execution_count": 15,
   "id": "33913d67",
   "metadata": {},
   "outputs": [],
   "source": [
    "query = '연봉 7천만원인 직장인의 소득세는 얼마인가요?'\n"
   ]
  },
  {
   "cell_type": "code",
   "execution_count": 16,
   "id": "228c18a6",
   "metadata": {},
   "outputs": [],
   "source": [
    "from langchain_ollama import ChatOllama\n",
    "\n",
    "llm = ChatOllama(model=os.getenv(\"model\"))"
   ]
  },
  {
   "cell_type": "code",
   "execution_count": null,
   "id": "fe5e94c9",
   "metadata": {},
   "outputs": [],
   "source": [
    "from langchain import hub\n",
    "\n",
    "prompt = hub.pull(\"rlm/rag-prompt\")"
   ]
  },
  {
   "cell_type": "code",
   "execution_count": null,
   "id": "8cfd4141",
   "metadata": {},
   "outputs": [],
   "source": [
    "prompt"
   ]
  },
  {
   "cell_type": "code",
   "execution_count": null,
   "id": "a2c2c34a",
   "metadata": {},
   "outputs": [],
   "source": [
    "retriever = database.as_retriever()\n",
    "retriever.invoke(query)"
   ]
  }
 ],
 "metadata": {
  "kernelspec": {
   "display_name": "RAG",
   "language": "python",
   "name": "python3"
  },
  "language_info": {
   "codemirror_mode": {
    "name": "ipython",
    "version": 3
   },
   "file_extension": ".py",
   "mimetype": "text/x-python",
   "name": "python",
   "nbconvert_exporter": "python",
   "pygments_lexer": "ipython3",
   "version": "3.11.9"
  }
 },
 "nbformat": 4,
 "nbformat_minor": 5
}
