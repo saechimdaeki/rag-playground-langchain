{
 "cells": [
  {
   "cell_type": "markdown",
   "id": "3e192094",
   "metadata": {},
   "source": [
    "1. 문서의 내용을 읽는다\n",
    "2. 문서를 쪼갠다\n",
    "   - 토큰수 초과로 답변을 생성하지 못할 수 있고\n",
    "   - 문서가 길면(인풋이 길면) 답변 생성이 오래 걸림\n",
    "3. 임베딩 -> 벡터 데이터베이스에 저장\n",
    "4. 질문이 있을 때, 백터 데이터베이스에 유사도 검색\n",
    "5. 유사도 검색으로 가져온 문서를 LLM에 질문과 같이 전달 "
   ]
  },
  {
   "cell_type": "code",
   "execution_count": null,
   "id": "740b2194",
   "metadata": {},
   "outputs": [],
   "source": [
    "%pip install --upgrade --quiet docx2txt langchain-community\n",
    "%pip install -qU langchain-text-splitters\n",
    "%pip install -U langchain langchainhub --quiet\n",
    "%pip install langchain-pinecone"
   ]
  },
  {
   "cell_type": "code",
   "execution_count": 1,
   "id": "374687bc",
   "metadata": {},
   "outputs": [
    {
     "data": {
      "text/plain": [
       "225"
      ]
     },
     "execution_count": 1,
     "metadata": {},
     "output_type": "execute_result"
    }
   ],
   "source": [
    "from langchain_community.document_loaders import Docx2txtLoader\n",
    "from langchain_text_splitters import RecursiveCharacterTextSplitter\n",
    "\n",
    "\n",
    "text_splitter = RecursiveCharacterTextSplitter(\n",
    "    chunk_size =1500,\n",
    "    chunk_overlap=200,\n",
    ")\n",
    "\n",
    "loader = Docx2txtLoader('./tax_with_markdown.docx')\n",
    "document_list = loader.load_and_split(text_splitter = text_splitter)\n",
    "\n",
    "len(document_list)"
   ]
  },
  {
   "cell_type": "code",
   "execution_count": 3,
   "id": "14a0a795",
   "metadata": {},
   "outputs": [],
   "source": [
    "from langchain_ollama import OllamaEmbeddings\n",
    "from dotenv import load_dotenv\n",
    "import os\n",
    "load_dotenv()\n",
    "\n",
    "\n",
    "embedding = OllamaEmbeddings(model=os.getenv(\"embedmodel\"))"
   ]
  },
  {
   "cell_type": "code",
   "execution_count": null,
   "id": "644b5684",
   "metadata": {},
   "outputs": [],
   "source": [
    "from langchain_pinecone import PineconeVectorStore\n",
    "from pinecone import Pinecone, ServerlessSpec\n",
    "import os,time\n",
    "\n",
    "INDEX = \"tax-markdown-index\"\n",
    "pc = Pinecone(api_key=os.environ[\"PINECONE_API_KEY\"])\n",
    "\n",
    "if INDEX in [i[\"name\"] for i in pc.list_indexes()]:\n",
    "    pc.delete_index(INDEX)\n",
    "\n",
    "pc.create_index(\n",
    "    name=INDEX,\n",
    "    dimension=768,\n",
    "    metric=\"cosine\",\n",
    "    spec=ServerlessSpec(cloud=\"aws\", region=\"us-east-1\"),\n",
    ")\n",
    "\n",
    "\n",
    "while True:\n",
    "    desc = pc.describe_index(INDEX)\n",
    "    if desc.get(\"status\", {}).get(\"ready\"):\n",
    "        break\n",
    "    time.sleep(0.5)\n",
    "\n",
    "splitter = RecursiveCharacterTextSplitter(chunk_size=1000, chunk_overlap=100)\n",
    "chunked_documents = splitter.split_documents(document_list)\n",
    "print(\"총 chunk 개수:\", len(chunked_documents))\n",
    "\n",
    "database = PineconeVectorStore.from_existing_index(\n",
    "    index_name=INDEX,\n",
    "    embedding=embedding,  \n",
    ")\n",
    "\n",
    "batch_size = 50 \n",
    "for i in range(0, len(chunked_documents), batch_size):\n",
    "    batch = chunked_documents[i:i+batch_size]\n",
    "    database.add_documents(batch)\n",
    "    print(f\"업로드 진행: {i+1} ~ {i+len(batch)} / {len(chunked_documents)}\")"
   ]
  },
  {
   "cell_type": "code",
   "execution_count": null,
   "id": "33913d67",
   "metadata": {},
   "outputs": [],
   "source": [
    "query = '연봉 7천만원인 직장인의 소득세는?'\n"
   ]
  },
  {
   "cell_type": "code",
   "execution_count": 6,
   "id": "228c18a6",
   "metadata": {},
   "outputs": [],
   "source": [
    "from langchain_ollama import ChatOllama\n",
    "\n",
    "llm = ChatOllama(model=os.getenv(\"model\"))"
   ]
  },
  {
   "cell_type": "code",
   "execution_count": null,
   "id": "fe5e94c9",
   "metadata": {},
   "outputs": [],
   "source": [
    "from langchain import hub\n",
    "\n",
    "prompt = hub.pull(\"rlm/rag-prompt\")"
   ]
  },
  {
   "cell_type": "code",
   "execution_count": null,
   "id": "8cfd4141",
   "metadata": {},
   "outputs": [],
   "source": [
    "prompt"
   ]
  },
  {
   "cell_type": "code",
   "execution_count": null,
   "id": "a2c2c34a",
   "metadata": {},
   "outputs": [],
   "source": [
    "retriever = database.as_retriever(search_kwargs={'k': 2})\n",
    "retriever.invoke(query)"
   ]
  },
  {
   "cell_type": "code",
   "execution_count": 11,
   "id": "e9acfd7f",
   "metadata": {},
   "outputs": [],
   "source": [
    "from langchain.chains import RetrievalQA\n",
    "\n",
    "qa_chain = RetrievalQA.from_chain_type(\n",
    "    llm = llm,\n",
    "    chain_type_kwargs = {\"prompt\": prompt},\n",
    "    retriever = database.as_retriever(),\n",
    ")\n",
    "# query -> 직장인 -> 거주자 chain 추가\n",
    "ai_message = qa_chain.invoke({\"query\": query})"
   ]
  },
  {
   "cell_type": "code",
   "execution_count": 16,
   "id": "933855b1",
   "metadata": {},
   "outputs": [],
   "source": [
    "from langchain_core.output_parsers import StrOutputParser\n",
    "from langchain_core.prompts import ChatPromptTemplate\n",
    "\n",
    "\n",
    "dictionary = [\"사람을 나타내는 표현 -> 거주자\"]\n",
    "\n",
    "prompt = ChatPromptTemplate.from_template(f\"\"\"\n",
    "    사용자의 질문을 보고, 우리의 사전을 참고해서 사용자의 질문을 변경해주세요.\n",
    "    만약 변경할 필요가 없다고 판단된다면, 사용자의 질문을 변경하지 않아도 됩니다.\n",
    "    사전: {dictionary}\n",
    "    사용자의 질문: {{question}}\n",
    "\"\"\")\n",
    "\n",
    "dictionary_chain = prompt | llm | StrOutputParser()\n",
    "\n"
   ]
  },
  {
   "cell_type": "code",
   "execution_count": 17,
   "id": "bc085abd",
   "metadata": {},
   "outputs": [],
   "source": [
    "new_question = dictionary_chain.invoke({\"question\": query})"
   ]
  },
  {
   "cell_type": "code",
   "execution_count": null,
   "id": "3722e3e9",
   "metadata": {},
   "outputs": [],
   "source": [
    "new_question"
   ]
  },
  {
   "cell_type": "code",
   "execution_count": 19,
   "id": "13bd9b01",
   "metadata": {},
   "outputs": [],
   "source": [
    "tax_chain = {\"query\": dictionary_chain} | qa_chain"
   ]
  },
  {
   "cell_type": "code",
   "execution_count": null,
   "id": "e384a761",
   "metadata": {},
   "outputs": [],
   "source": [
    "ai_response = tax_chain.invoke({\"question\": query})"
   ]
  }
 ],
 "metadata": {
  "kernelspec": {
   "display_name": "RAG",
   "language": "python",
   "name": "python3"
  },
  "language_info": {
   "codemirror_mode": {
    "name": "ipython",
    "version": 3
   },
   "file_extension": ".py",
   "mimetype": "text/x-python",
   "name": "python",
   "nbconvert_exporter": "python",
   "pygments_lexer": "ipython3",
   "version": "3.11.9"
  }
 },
 "nbformat": 4,
 "nbformat_minor": 5
}
